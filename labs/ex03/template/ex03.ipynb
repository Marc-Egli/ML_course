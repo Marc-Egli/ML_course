{
 "cells": [
  {
   "cell_type": "code",
   "execution_count": 14,
   "metadata": {},
   "outputs": [
    {
     "name": "stdout",
     "output_type": "stream",
     "text": [
      "The autoreload extension is already loaded. To reload it, use:\n",
      "  %reload_ext autoreload\n"
     ]
    }
   ],
   "source": [
    "# Useful starting lines\n",
    "%matplotlib inline\n",
    "import numpy as np\n",
    "import matplotlib.pyplot as plt\n",
    "from helpers import *\n",
    "from grid_search import generate_w, get_best_parameters,grid_search\n",
    "from costs import *\n",
    "%load_ext autoreload\n",
    "%autoreload 2"
   ]
  },
  {
   "cell_type": "markdown",
   "metadata": {},
   "source": [
    "# 1 Least squares and linear basis functions models\n",
    "## 1.1 Least squares"
   ]
  },
  {
   "cell_type": "code",
   "execution_count": 15,
   "metadata": {},
   "outputs": [],
   "source": [
    "def least_squares(y, tx):\n",
    "    \"\"\"calculate the least squares solution.\"\"\"\n",
    "    # ***************************************************\n",
    "    # INSERT YOUR CODE HERE\n",
    "    # least squares: TODO\n",
    "    # returns mse, and optimal weights\n",
    "    # ***************************************************\n",
    "    w = np.linalg.solve(tx.T@tx,tx.T@y)\n",
    "    return compute_loss(y,tx,w), w"
   ]
  },
  {
   "cell_type": "markdown",
   "metadata": {},
   "source": [
    "### Load the data\n",
    "Here we will reuse the dataset `height_weight_genders.csv` from previous exercise section to check the correctness of your implementation. Please compare it with your previous result."
   ]
  },
  {
   "cell_type": "code",
   "execution_count": 16,
   "metadata": {},
   "outputs": [],
   "source": [
    "def test_your_least_squares():\n",
    "    height, weight, gender = load_data_from_ex02(sub_sample=False, add_outlier=False)\n",
    "    x, mean_x, std_x = standardize(height)\n",
    "    y, tx = build_model_data(x, weight)\n",
    "    # ***************************************************\n",
    "    # INSERT YOUR CODE HERE\n",
    "    # least square or grid search: TODO\n",
    "    # this code should compare the optimal weights obtained \n",
    "    # by least squares vs. grid search\n",
    "    # ***************************************************\n",
    "    grid_w0,grid_w1 = generate_w(num_intervals=10)\n",
    "    grid_losses = grid_search(y, tx, grid_w0, grid_w1)\n",
    "    loss_star, w0_star, w1_star = get_best_parameters(grid_w0, grid_w1, grid_losses)\n",
    "    print(\"Grid Search: loss*={l}, w0*={w0}, w1*={w1}\".format(l=loss_star, w0=w0_star, w1=w1_star))\n",
    "    \n",
    "    ls_loss, ls_w = least_squares(y,tx)\n",
    "    print(\"Least Square: loss*={l}, w0*={w0}\".format(l=ls_loss, w0=ls_w,))\n",
    "    \n",
    "    return"
   ]
  },
  {
   "cell_type": "markdown",
   "metadata": {},
   "source": [
    "Test it here"
   ]
  },
  {
   "cell_type": "code",
   "execution_count": 17,
   "metadata": {},
   "outputs": [
    {
     "name": "stdout",
     "output_type": "stream",
     "text": [
      "Grid Search: loss*=84.84896629356496, w0*=66.66666666666669, w1*=16.666666666666686\n",
      "Least Square: loss*=30.771775737658796, w0*=[73.293922   13.47971243]\n"
     ]
    }
   ],
   "source": [
    "test_your_least_squares()"
   ]
  },
  {
   "cell_type": "markdown",
   "metadata": {},
   "source": [
    "## 1.2 Least squares with a linear basis function model\n",
    "Start from this section, we will use the dataset `dataEx3.csv`.\n",
    "\n",
    "### Implement polynomial basis functions"
   ]
  },
  {
   "cell_type": "code",
   "execution_count": 18,
   "metadata": {
    "scrolled": true
   },
   "outputs": [
    {
     "name": "stdout",
     "output_type": "stream",
     "text": [
      "shape of x (50,)\n",
      "shape of y (50,)\n"
     ]
    }
   ],
   "source": [
    "# load dataset\n",
    "x, y = load_data()\n",
    "print(\"shape of x {}\".format(x.shape))\n",
    "print(\"shape of y {}\".format(y.shape))"
   ]
  },
  {
   "cell_type": "code",
   "execution_count": 19,
   "metadata": {},
   "outputs": [],
   "source": [
    "def build_poly(x, degree):\n",
    "    \"\"\"polynomial basis functions for input data x, for j=0 up to j=degree.\"\"\"\n",
    "    # ***************************************************\n",
    "    # INSERT YOUR CODE HERE\n",
    "    # polynomial basis function: TODO\n",
    "    # this function should return the matrix formed\n",
    "    # by applying the polynomial basis to the input data\n",
    "    # ***************************************************\n",
    "    poly_matrix = np.array(np.ones(len(x)))\n",
    "    for d in range(1,degree+1) :\n",
    "        poly_matrix = (np.vstack((poly_matrix,x**d)))\n",
    "        \n",
    "    return poly_matrix\n",
    "\n",
    "\n",
    "        "
   ]
  },
  {
   "cell_type": "markdown",
   "metadata": {},
   "source": [
    "Let us play with polynomial regression. Note that we will use your implemented function `compute_mse`. Please copy and paste your implementation from exercise02."
   ]
  },
  {
   "cell_type": "code",
   "execution_count": 20,
   "metadata": {},
   "outputs": [],
   "source": [
    "from plots import *\n",
    "\n",
    "def polynomial_regression():\n",
    "    \"\"\"Constructing the polynomial basis function expansion of the data,\n",
    "       and then running least squares regression.\"\"\"\n",
    "    # define parameters\n",
    "    degrees = [1, 3, 7, 12]\n",
    "    \n",
    "    # define the structure of the figure\n",
    "    num_row = 2\n",
    "    num_col = 2\n",
    "    f, axs = plt.subplots(num_row, num_col)\n",
    "\n",
    "    for ind, degree in enumerate(degrees):\n",
    "        poly_matrix = build_poly(x,degree)\n",
    "        # ***************************************************\n",
    "        # INSERT YOUR CODE HERE\n",
    "        # least square and calculate RMSE: TODO\n",
    "        # ***************************************************\n",
    "        loss, weights = least_squares(y, poly_matrix.T)\n",
    "        rmse = np.sqrt(2*loss)\n",
    "        print(\"Processing {i}th experiment, degree={d}, rmse={loss}\".format(\n",
    "              i=ind + 1, d=degree, loss=rmse))\n",
    "        # plot fit\n",
    "        plot_fitted_curve(\n",
    "            y, x, weights, degree, axs[ind // num_col][ind % num_col])\n",
    "    plt.tight_layout()\n",
    "    plt.savefig(\"visualize_polynomial_regression\")\n",
    "    plt.show()"
   ]
  },
  {
   "cell_type": "markdown",
   "metadata": {},
   "source": [
    "Run polynomial regression"
   ]
  },
  {
   "cell_type": "code",
   "execution_count": 21,
   "metadata": {
    "scrolled": true
   },
   "outputs": [
    {
     "name": "stdout",
     "output_type": "stream",
     "text": [
      "Processing 1th experiment, degree=1, rmse=0.6673335515781588\n",
      "[0.  0.1 0.2 0.3 0.4 0.5 0.6 0.7 0.8 0.9 1.  1.1 1.2 1.3 1.4 1.5 1.6 1.7\n",
      " 1.8 1.9 2.  2.1 2.2 2.3 2.4 2.5 2.6 2.7 2.8 2.9 3.  3.1 3.2 3.3 3.4 3.5\n",
      " 3.6 3.7 3.8 3.9 4.  4.1 4.2 4.3 4.4 4.5 4.6 4.7 4.8 4.9 5.  5.1 5.2 5.3\n",
      " 5.4 5.5 5.6 5.7 5.8 5.9 6.  6.1 6.2 6.3]\n",
      "Processing 2th experiment, degree=3, rmse=0.3656912697732369\n",
      "[0.  0.1 0.2 0.3 0.4 0.5 0.6 0.7 0.8 0.9 1.  1.1 1.2 1.3 1.4 1.5 1.6 1.7\n",
      " 1.8 1.9 2.  2.1 2.2 2.3 2.4 2.5 2.6 2.7 2.8 2.9 3.  3.1 3.2 3.3 3.4 3.5\n",
      " 3.6 3.7 3.8 3.9 4.  4.1 4.2 4.3 4.4 4.5 4.6 4.7 4.8 4.9 5.  5.1 5.2 5.3\n",
      " 5.4 5.5 5.6 5.7 5.8 5.9 6.  6.1 6.2 6.3]\n",
      "Processing 3th experiment, degree=7, rmse=0.35307072460843486\n",
      "[0.  0.1 0.2 0.3 0.4 0.5 0.6 0.7 0.8 0.9 1.  1.1 1.2 1.3 1.4 1.5 1.6 1.7\n",
      " 1.8 1.9 2.  2.1 2.2 2.3 2.4 2.5 2.6 2.7 2.8 2.9 3.  3.1 3.2 3.3 3.4 3.5\n",
      " 3.6 3.7 3.8 3.9 4.  4.1 4.2 4.3 4.4 4.5 4.6 4.7 4.8 4.9 5.  5.1 5.2 5.3\n",
      " 5.4 5.5 5.6 5.7 5.8 5.9 6.  6.1 6.2 6.3]\n",
      "Processing 4th experiment, degree=12, rmse=0.3509227547412242\n",
      "[0.  0.1 0.2 0.3 0.4 0.5 0.6 0.7 0.8 0.9 1.  1.1 1.2 1.3 1.4 1.5 1.6 1.7\n",
      " 1.8 1.9 2.  2.1 2.2 2.3 2.4 2.5 2.6 2.7 2.8 2.9 3.  3.1 3.2 3.3 3.4 3.5\n",
      " 3.6 3.7 3.8 3.9 4.  4.1 4.2 4.3 4.4 4.5 4.6 4.7 4.8 4.9 5.  5.1 5.2 5.3\n",
      " 5.4 5.5 5.6 5.7 5.8 5.9 6.  6.1 6.2 6.3]\n"
     ]
    },
    {
     "data": {
      "image/png": "[encoded data removed]",
      "text/plain": [
       "<Figure size 432x288 with 4 Axes>"
      ]
     },
     "metadata": {
      "needs_background": "light"
     },
     "output_type": "display_data"
    }
   ],
   "source": [
    "polynomial_regression()"
   ]
  },
  {
   "cell_type": "markdown",
   "metadata": {},
   "source": [
    "# 2 Evaluating model predication performance\n",
    "\n",
    "\n",
    "Let us show the train and test splits for various polynomial degrees. First of all, please fill in the function `split_data()`"
   ]
  },
  {
   "cell_type": "code",
   "execution_count": 23,
   "metadata": {},
   "outputs": [],
   "source": [
    "def split_data(x, y, ratio, seed=1):\n",
    "    \"\"\"\n",
    "    split the dataset based on the split ratio. If ratio is 0.8 \n",
    "    you will have 80% of your data set dedicated to training \n",
    "    and the rest dedicated to testing\n",
    "    \"\"\"\n",
    "    # set seed\n",
    "    np.random.seed(seed)\n",
    "    x_train = []\n",
    "    y_train = []\n",
    "    x_test = []\n",
    "    y_test = []\n",
    "    for a in range(len(y)):\n",
    "        if np.random.uniform() <= ratio :\n",
    "            x_train.append(x[a])\n",
    "            y_train.append(y[a])\n",
    "        else :\n",
    "            x_test.append(x[a])\n",
    "            y_test.append(y[a])\n",
    "    return np.array(x_train) , np.array(x_test) , np.array(y_train) , np.array(y_test)\n",
    "\n"
   ]
  },
  {
   "cell_type": "markdown",
   "metadata": {},
   "source": [
    "Then, test your `split_data` function below."
   ]
  },
  {
   "cell_type": "code",
   "execution_count": 24,
   "metadata": {},
   "outputs": [],
   "source": [
    "from costs import *\n",
    "def train_test_split_demo(x, y, degree, ratio, seed):\n",
    "    \"\"\"polynomial regression with different split ratios and different degrees.\"\"\"\n",
    "    # ***************************************************\n",
    "    # INSERT YOUR CODE HERE\n",
    "    # split the data, and return train and test data: TODO\n",
    "    # ***************************************************\n",
    "    x_train , x_test , y_train , y_test = split_data(x, y, ratio, seed)\n",
    "    # ***************************************************\n",
    "    # INSERT YOUR CODE HERE\n",
    "    # form train and test data with polynomial basis function: TODO\n",
    "    # ***************************************************\n",
    "    poly_train = build_poly(x_train,degree)\n",
    "    poly_test = build_poly(x_test,degree)\n",
    "    # ***************************************************\n",
    "    # INSERT YOUR CODE HERE\n",
    "    # calculate weight through least square: TODO\n",
    "    # ***************************************************\n",
    "    loss,weigth = least_squares(y_train,poly_train.T)\n",
    "\n",
    "    # ***************************************************\n",
    "    # INSERT YOUR CODE HERE\n",
    "    # calculate RMSE for train and test data,\n",
    "    # and store them in rmse_tr and rmse_te respectively: TODO\n",
    "    # ***************************************************\n",
    "    rmse_tr = np.sqrt(2*loss)\n",
    "    rmse_te = np.sqrt(2*compute_loss(y_test,poly_test.T,weigth))\n",
    "    \n",
    "    print(\"proportion={p}, degree={d}, Training RMSE={tr:.3f}, Testing RMSE={te:.3f}\".format(\n",
    "          p=ratio, d=degree, tr=rmse_tr, te=rmse_te))\n"
   ]
  },
  {
   "cell_type": "code",
   "execution_count": 25,
   "metadata": {
    "scrolled": true
   },
   "outputs": [
    {
     "name": "stdout",
     "output_type": "stream",
     "text": [
      "proportion=0.9, degree=1, Training RMSE=0.677, Testing RMSE=0.597\n",
      "proportion=0.9, degree=3, Training RMSE=0.372, Testing RMSE=0.329\n",
      "proportion=0.9, degree=7, Training RMSE=0.358, Testing RMSE=0.325\n",
      "proportion=0.9, degree=12, Training RMSE=0.350, Testing RMSE=0.308\n",
      "proportion=0.5, degree=1, Training RMSE=0.733, Testing RMSE=0.761\n",
      "proportion=0.5, degree=3, Training RMSE=0.392, Testing RMSE=0.349\n",
      "proportion=0.5, degree=7, Training RMSE=0.351, Testing RMSE=0.437\n",
      "proportion=0.5, degree=12, Training RMSE=0.325, Testing RMSE=0.466\n",
      "proportion=0.1, degree=1, Training RMSE=0.656, Testing RMSE=1.067\n",
      "proportion=0.1, degree=3, Training RMSE=0.196, Testing RMSE=0.598\n",
      "proportion=0.1, degree=7, Training RMSE=0.000, Testing RMSE=5.657\n",
      "proportion=0.1, degree=12, Training RMSE=0.000, Testing RMSE=40.143\n"
     ]
    }
   ],
   "source": [
    "seed = 5\n",
    "degrees = [1, 3, 7, 12]\n",
    "split_ratios = [0.9, 0.5, 0.1]\n",
    "\n",
    "for split_ratio in split_ratios:\n",
    "    for degree in degrees:\n",
    "        train_test_split_demo(x, y, degree, split_ratio, seed)"
   ]
  },
  {
   "cell_type": "markdown",
   "metadata": {},
   "source": [
    "# 3 Ridge Regression\n",
    "Please fill in the function below."
   ]
  },
  {
   "cell_type": "code",
   "execution_count": 31,
   "metadata": {},
   "outputs": [],
   "source": [
    "from costs import *\n",
    "def ridge_regression(y, tx, lambda_):\n",
    "    \"\"\"implement ridge regression.\"\"\"\n",
    "    # ***************************************************\n",
    "    # INSERT YOUR CODE HERE\n",
    "    # ridge regression: TODO\n",
    "    # ***************************************************\n",
    "    w = np.linalg.inv(tx.T@tx + (lambda_/(len(y)*2))*np.identity(tx.shape[1])) @tx.T@y\n",
    "    return compute_loss(y,tx,w) ,w\n"
   ]
  },
  {
   "cell_type": "code",
   "execution_count": 32,
   "metadata": {},
   "outputs": [],
   "source": [
    "def ridge_regression_demo(x, y, degree, ratio, seed):\n",
    "    \"\"\"ridge regression demo.\"\"\"\n",
    "    # define parameter\n",
    "    lambdas = np.logspace(-5, 0, 15)\n",
    "    # ***************************************************\n",
    "    # INSERT YOUR CODE HERE\n",
    "    # split the data, and return train and test data: TODO\n",
    "    # ***************************************************\n",
    "    x_train ,x_test ,y_train , y_test = split_data(x,y,ratio,seed)\n",
    "    # ***************************************************\n",
    "    # INSERT YOUR CODE HERE\n",
    "    # form train and test data with polynomial basis function: TODO\n",
    "    # ***************************************************\n",
    "    poly_train = build_poly(x_train,degree)\n",
    "    poly_test = build_poly(x_test,degree)\n",
    "    print(poly_train)\n",
    "    rmse_tr = []\n",
    "    rmse_te = []\n",
    "    for ind, lambda_ in enumerate(lambdas):\n",
    "        loss ,w = ridge_regression(y_train,poly_train.T,lambda_)\n",
    "        rmse_tr.append(np.sqrt(2*loss))\n",
    "        rmse_te.append(np.sqrt(2*compute_loss(y_test,poly_test.T,w)))\n",
    "        print(\"proportion={p}, degree={d}, lambda={l:.3f}, Training RMSE={tr:.3f}, Testing RMSE={te:.3f}\".format(\n",
    "               p=ratio, d=degree, l=lambda_, tr=rmse_tr[ind], te=rmse_te[ind]))\n",
    "        \n",
    "    # Plot the obtained results\n",
    "    plot_train_test(rmse_tr, rmse_te, lambdas, degree)\n",
    "\n"
   ]
  },
  {
   "cell_type": "code",
   "execution_count": 33,
   "metadata": {},
   "outputs": [
    {
     "name": "stdout",
     "output_type": "stream",
     "text": [
      "[[1.00000000e+00 1.00000000e+00 1.00000000e+00 1.00000000e+00\n",
      "  1.00000000e+00 1.00000000e+00 1.00000000e+00 1.00000000e+00\n",
      "  1.00000000e+00 1.00000000e+00 1.00000000e+00 1.00000000e+00\n",
      "  1.00000000e+00 1.00000000e+00 1.00000000e+00 1.00000000e+00\n",
      "  1.00000000e+00 1.00000000e+00 1.00000000e+00 1.00000000e+00\n",
      "  1.00000000e+00 1.00000000e+00 1.00000000e+00 1.00000000e+00\n",
      "  1.00000000e+00 1.00000000e+00 1.00000000e+00 1.00000000e+00\n",
      "  1.00000000e+00 1.00000000e+00 1.00000000e+00 1.00000000e+00\n",
      "  1.00000000e+00 1.00000000e+00 1.00000000e+00 1.00000000e+00\n",
      "  1.00000000e+00 1.00000000e+00 1.00000000e+00 1.00000000e+00\n",
      "  1.00000000e+00 1.00000000e+00 1.00000000e+00 1.00000000e+00\n",
      "  1.00000000e+00]\n",
      " [4.89512330e+00 1.86662437e+00 3.50706129e+00 3.38087384e+00\n",
      "  7.30937276e-01 3.88562366e+00 5.65224803e+00 6.28318531e+00\n",
      "  2.37137419e+00 6.04749821e-01 3.63324875e+00 8.57124731e-01\n",
      "  2.49756165e+00 1.61424946e+00 5.39987312e+00 6.15699785e+00\n",
      "  6.03081040e+00 4.78562366e-01 2.87612401e+00 4.51656093e+00\n",
      "  9.83312187e-01 1.10949964e+00 1.00000000e-01 2.11899928e+00\n",
      "  1.36187455e+00 4.01181111e+00 5.77843549e+00 2.24518674e+00\n",
      "  1.48806201e+00 4.64274839e+00 3.00231147e+00 2.26187455e-01\n",
      "  5.27368567e+00 5.02131076e+00 5.52606058e+00 2.62374910e+00\n",
      "  4.76893584e+00 3.12849893e+00 1.74043692e+00 3.75943620e+00\n",
      "  3.25468638e+00 5.90462294e+00 4.13799857e+00 2.74993656e+00\n",
      "  5.14749821e+00]\n",
      " [2.39622321e+01 3.48428655e+00 1.22994789e+01 1.14303079e+01\n",
      "  5.34269301e-01 1.50980712e+01 3.19479078e+01 3.94784176e+01\n",
      "  5.62341557e+00 3.65722346e-01 1.32004965e+01 7.34662804e-01\n",
      "  6.23781420e+00 2.60580133e+00 2.91586297e+01 3.79086225e+01\n",
      "  3.63706740e+01 2.29021938e-01 8.27208935e+00 2.03993227e+01\n",
      "  9.66902857e-01 1.23098946e+00 1.00000000e-02 4.49015797e+00\n",
      "  1.85470230e+00 1.60946284e+01 3.33903167e+01 5.04086349e+00\n",
      "  2.21432854e+00 2.15551126e+01 9.01387417e+00 5.11607648e-02\n",
      "  2.78117605e+01 2.52135617e+01 3.05373455e+01 6.88405937e+00\n",
      "  2.27427491e+01 9.78750553e+00 3.02912067e+00 1.41333606e+01\n",
      "  1.05929834e+01 3.48645721e+01 1.71230321e+01 7.56215108e+00\n",
      "  2.64967378e+01]\n",
      " [1.17298081e+02 6.50385420e+00 4.31350264e+01 3.86444289e+01\n",
      "  3.90517348e-01 5.86654226e+01 1.80577499e+02 2.48050213e+02\n",
      "  1.33352226e+01 2.21170523e-01 4.79606872e+01 6.29697659e-01\n",
      "  1.55793255e+01 4.20641340e+00 1.57452901e+02 2.33403308e+02\n",
      "  2.19344639e+02 1.09601281e-01 2.37915548e+01 9.21347839e+01\n",
      "  9.50767363e-01 1.36578236e+00 1.00000000e-03 9.51464151e+00\n",
      "  2.52587186e+00 6.45686091e+01 1.92943791e+02 1.13176799e+01\n",
      "  3.29505817e+00 1.00074964e+02 2.70624578e+01 1.15719232e-02\n",
      "  1.46670483e+02 1.26605129e+02 1.68751221e+02 1.80620446e+01\n",
      "  1.08458711e+02 3.06202005e+01 5.27199344e+00 5.31334673e+01\n",
      "  3.44768389e+01 2.05862152e+02 7.08550825e+01 2.07954357e+01\n",
      "  1.36391911e+02]\n",
      " [5.74188568e+02 1.21402528e+01 1.51277181e+02 1.30651939e+02\n",
      "  2.85443686e-01 2.27951754e+02 1.02066881e+03 1.55854546e+03\n",
      "  3.16228027e+01 1.33752834e-01 1.74253107e+02 5.39729436e-01\n",
      "  3.89103259e+01 6.79020057e+00 8.50225687e+02 1.43706366e+03\n",
      "  1.32282593e+03 5.24510482e-02 6.84274622e+01 4.16132365e+02\n",
      "  9.34901135e-01 1.51533504e+00 1.00000000e-04 2.01615186e+01\n",
      "  3.43992060e+00 2.59037064e+02 1.11491325e+03 2.54103048e+01\n",
      "  4.90325088e+00 4.64622879e+02 8.12499275e+01 2.61742385e-03\n",
      "  7.73494022e+02 6.35723694e+02 9.32529470e+02 4.73902734e+01\n",
      "  5.17232636e+02 9.57952645e+01 9.17557201e+00 1.99751881e+02\n",
      "  1.12211298e+02 1.21553839e+03 2.93198230e+02 5.71861290e+01\n",
      "  7.02077115e+02]\n",
      " [2.81072384e+03 2.26612917e+01 5.30538347e+02 4.41717721e+02\n",
      "  2.08641431e-01 8.85734728e+02 5.76907329e+03 9.79262991e+03\n",
      "  7.49894981e+01 8.08870026e-02 6.33104882e+02 4.62615448e-01\n",
      "  9.71809379e+01 1.09610776e+01 4.59111083e+03 8.84799789e+03\n",
      "  7.97771237e+03 2.51010977e-02 1.96805867e+02 1.87948719e+03\n",
      "  9.19299680e-01 1.68126368e+00 1.00000000e-05 4.27222434e+01\n",
      "  4.68474033e+00 1.03920777e+03 6.44245427e+03 5.70508793e+01\n",
      "  7.29634135e+00 2.15712712e+03 2.43937589e+02 5.92028440e-04\n",
      "  4.07916433e+03 3.19216622e+03 5.15321434e+03 1.24340187e+02\n",
      "  2.46664926e+03 2.99695382e+02 1.59695043e+01 7.50954451e+02\n",
      "  3.65212584e+02 7.17729584e+03 1.21325386e+03 1.57258227e+02\n",
      "  3.61394069e+03]\n",
      " [1.37588397e+04 4.23001194e+01 1.86063050e+03 1.49339188e+03\n",
      "  1.52503799e-01 3.44163181e+03 3.26082331e+04 6.15289084e+04\n",
      "  1.77828161e+02 4.89164004e-02 2.30022752e+03 3.96519141e-01\n",
      "  2.42715383e+02 1.76939137e+01 2.47914160e+04 5.44771040e+04\n",
      "  4.81120707e+04 1.20124407e-02 5.66038081e+02 8.48881840e+03\n",
      "  9.03958579e-01 1.86536146e+00 1.00000000e-06 9.05284031e+01\n",
      "  6.38002864e+00 4.16910528e+03 3.72273064e+04 1.28089878e+02\n",
      "  1.08574084e+01 1.00149985e+04 7.32376623e+02 1.33909406e-04\n",
      "  2.15122305e+04 1.60288586e+04 2.84769746e+04 3.26237455e+02\n",
      "  1.17632921e+04 9.37596681e+02 2.77939148e+01 2.82316535e+03\n",
      "  1.18865242e+03 4.23792257e+04 5.02044272e+03 4.32450148e+02\n",
      "  1.86027533e+04]\n",
      " [6.73512170e+04 7.89584339e+01 6.52534521e+03 5.04896955e+03\n",
      "  1.11470711e-01 1.33728860e+04 1.84309822e+05 3.86597533e+05\n",
      "  4.21697111e+02 2.95821844e-02 8.35729875e+03 3.39866362e-01\n",
      "  6.06196634e+02 2.85623906e+01 1.33870501e+05 3.35415412e+05\n",
      "  2.90154776e+05 5.74870205e-03 1.62799572e+03 3.83402655e+04\n",
      "  8.88873487e-01 2.06961787e+00 1.00000000e-07 1.91829621e+02\n",
      "  8.68879865e+00 1.67256629e+04 2.15115588e+05 2.87585695e+02\n",
      "  1.61564969e+01 4.64971181e+04 2.19882274e+03 3.02886278e-05\n",
      "  1.13448741e+05 8.04858799e+04 1.57365487e+05 8.55965231e+02\n",
      "  5.60983851e+04 2.93327021e+03 4.83735554e+01 1.06135100e+04\n",
      "  3.86869085e+03 2.50233348e+05 2.07745848e+04 1.18921047e+03\n",
      "  9.57576391e+04]]\n",
      "proportion=0.9, degree=7, lambda=0.000, Training RMSE=0.337, Testing RMSE=0.523\n",
      "proportion=0.9, degree=7, lambda=0.000, Training RMSE=0.337, Testing RMSE=0.523\n",
      "proportion=0.9, degree=7, lambda=0.000, Training RMSE=0.337, Testing RMSE=0.523\n",
      "proportion=0.9, degree=7, lambda=0.000, Training RMSE=0.337, Testing RMSE=0.523\n",
      "proportion=0.9, degree=7, lambda=0.000, Training RMSE=0.337, Testing RMSE=0.523\n",
      "proportion=0.9, degree=7, lambda=0.001, Training RMSE=0.337, Testing RMSE=0.523\n",
      "proportion=0.9, degree=7, lambda=0.001, Training RMSE=0.337, Testing RMSE=0.524\n",
      "proportion=0.9, degree=7, lambda=0.003, Training RMSE=0.337, Testing RMSE=0.524\n",
      "proportion=0.9, degree=7, lambda=0.007, Training RMSE=0.337, Testing RMSE=0.524\n",
      "proportion=0.9, degree=7, lambda=0.016, Training RMSE=0.337, Testing RMSE=0.524\n",
      "proportion=0.9, degree=7, lambda=0.037, Training RMSE=0.337, Testing RMSE=0.524\n",
      "proportion=0.9, degree=7, lambda=0.085, Training RMSE=0.337, Testing RMSE=0.524\n",
      "proportion=0.9, degree=7, lambda=0.193, Training RMSE=0.337, Testing RMSE=0.524\n",
      "proportion=0.9, degree=7, lambda=0.439, Training RMSE=0.337, Testing RMSE=0.524\n",
      "proportion=0.9, degree=7, lambda=1.000, Training RMSE=0.338, Testing RMSE=0.524\n"
     ]
    },
    {
     "data": {
      "image/png": "[encoded data removed]",
      "text/plain": [
       "<Figure size 432x288 with 1 Axes>"
      ]
     },
     "metadata": {
      "needs_background": "light"
     },
     "output_type": "display_data"
    }
   ],
   "source": [
    "seed = 56\n",
    "degree = 7\n",
    "split_ratio = 0.9\n",
    "ridge_regression_demo(x, y, degree, split_ratio, seed)"
   ]
  },
  {
   "cell_type": "code",
   "execution_count": null,
   "metadata": {},
   "outputs": [],
   "source": []
  }
 ],
 "metadata": {
  "anaconda-cloud": {},
  "kernelspec": {
   "display_name": "Python 3",
   "language": "python",
   "name": "python3"
  },
  "language_info": {
   "codemirror_mode": {
    "name": "ipython",
    "version": 3
   },
   "file_extension": ".py",
   "mimetype": "text/x-python",
   "name": "python",
   "nbconvert_exporter": "python",
   "pygments_lexer": "ipython3",
   "version": "3.8.5"
  }
 },
 "nbformat": 4,
 "nbformat_minor": 1
}
